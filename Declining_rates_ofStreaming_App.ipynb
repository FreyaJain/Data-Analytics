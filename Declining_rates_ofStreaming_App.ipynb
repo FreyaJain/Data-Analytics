{
 "cells": [
  {
   "cell_type": "markdown",
   "id": "cb7d8c1d-23aa-4223-a258-53847146ac4f",
   "metadata": {},
   "source": [
    "## PROJECT"
   ]
  },
  {
   "cell_type": "markdown",
   "id": "869d0e92-00fc-40b4-b6d8-6048867f43c5",
   "metadata": {},
   "source": [
    "## CASE STUDY : DECLINING RATES OF A STREAMING APP"
   ]
  },
  {
   "cell_type": "markdown",
   "id": "5b4f1d28-212c-44f2-9f52-c09940a0d723",
   "metadata": {},
   "source": [
    "* Data Analytics\n",
    "* Numpy, pandas, scikit learn"
   ]
  },
  {
   "cell_type": "code",
   "execution_count": null,
   "id": "5b91bfc3-cd15-4af9-ae1e-b1697b5f7401",
   "metadata": {},
   "outputs": [],
   "source": []
  },
  {
   "cell_type": "markdown",
   "id": "8a2cbaee-b7c7-4021-b3a8-59b9be0cbf6a",
   "metadata": {},
   "source": [
    "## ** PROJECT SUMMARY ** This case study aims to find out the reason for decline in ratings of a streaming service based on various factors like Search function,device os, os version etc"
   ]
  },
  {
   "cell_type": "code",
   "execution_count": 1,
   "id": "2423cd1a-491e-4d87-a5a1-21406f154b92",
   "metadata": {},
   "outputs": [
    {
     "data": {
      "image/png": "[encoded data removed]",
      "text/plain": [
       "<IPython.core.display.Image object>"
      ]
     },
     "execution_count": 1,
     "metadata": {},
     "output_type": "execute_result"
    }
   ],
   "source": [
    "from IPython.display import Image\n",
    "Image(filename='C:/Users/Sonal Jain/Desktop/img/app.png')"
   ]
  },
  {
   "cell_type": "markdown",
   "id": "0e2fc783-5638-48a6-8608-5636a2ac0a25",
   "metadata": {},
   "source": [
    "### PROBLEM STATEMENT:"
   ]
  },
  {
   "cell_type": "markdown",
   "id": "d4df69f0-b961-428a-8636-adb2e2d3d176",
   "metadata": {},
   "source": [
    "BingHive is a streaming platform like Netflix, which allows its users to watch series and movies.\n",
    "The OTT market is competitive and BingHive is competing against a lot of established players like Netflix, prime, Hotstar, etc. Their tech team keeps making new releases to the app and they rolled out a new update to the \"Search\" feature of the app.\n",
    "The users rely on the \"Search\" feature heavily to discover what they can watch on the platform.\n",
    "In mid-August, BingHive released an update after which the app's ratings across all platforms started to drop.  The rating for the last update alone fluctuated between 1 and 2.\n",
    "In most of the reviews, the users complained that the \"search\" functionality isn't working as expected. Some users could not find what they were looking for whereas others had to scroll a lot. A good part of them reported the search button became unresponsive and sometimes showed errors.\r\n",
    "The product manager wants you to investigate what happened and find out anything that can help product developers fix it as quickly as possible.\r\n"
   ]
  },
  {
   "cell_type": "markdown",
   "id": "8800457d-f484-4e8d-9d48-61ddbf91f3db",
   "metadata": {},
   "source": [
    "### AIM:\n",
    "* Perform analysis to understand why users are complaining about the search button.\r",
    "* \n",
    "Deep dive and identify which category of users are facing problems with search since the last update.\n",
    "* \r\n",
    "Communicate your findingso that corrective actions can be taken upon it.s.\r\n"
   ]
  },
  {
   "cell_type": "code",
   "execution_count": 2,
   "id": "760ff8bc-7962-4d7b-bcf5-6690537e970e",
   "metadata": {},
   "outputs": [],
   "source": [
    "import numpy as np\n",
    "import pandas as pd\n",
    "import matplotlib.pyplot as plt\n",
    "import seaborn as sns\n",
    "from sklearn.preprocessing import OneHotEncoder"
   ]
  },
  {
   "cell_type": "markdown",
   "id": "6be64672-eb51-452c-97d3-c7d245d010d0",
   "metadata": {},
   "source": [
    "## A Quick look at the data structure"
   ]
  },
  {
   "cell_type": "code",
   "execution_count": 3,
   "id": "d923140f-4264-4383-87f3-f3a691d68695",
   "metadata": {},
   "outputs": [],
   "source": [
    "activity_df=pd.read_csv(\"C:/Users/Sonal Jain/Desktop/users_activity_log.csv\")\n",
    "device_df=pd.read_csv(\"C:/Users/Sonal Jain/Desktop/device_details.csv\")"
   ]
  },
  {
   "cell_type": "code",
   "execution_count": 4,
   "id": "0bf932b2-35c1-4e52-a634-43933c7da765",
   "metadata": {},
   "outputs": [
    {
     "data": {
      "text/html": [
       "<div>\n",
       "<style scoped>\n",
       "    .dataframe tbody tr th:only-of-type {\n",
       "        vertical-align: middle;\n",
       "    }\n",
       "\n",
       "    .dataframe tbody tr th {\n",
       "        vertical-align: top;\n",
       "    }\n",
       "\n",
       "    .dataframe thead th {\n",
       "        text-align: right;\n",
       "    }\n",
       "</style>\n",
       "<table border=\"1\" class=\"dataframe\">\n",
       "  <thead>\n",
       "    <tr style=\"text-align: right;\">\n",
       "      <th></th>\n",
       "      <th>user_id</th>\n",
       "      <th>occurred_at</th>\n",
       "      <th>event_name</th>\n",
       "      <th>os</th>\n",
       "      <th>os_version</th>\n",
       "      <th>device_id</th>\n",
       "    </tr>\n",
       "  </thead>\n",
       "  <tbody>\n",
       "    <tr>\n",
       "      <th>0</th>\n",
       "      <td>4436047</td>\n",
       "      <td>04-10-2022 15:18</td>\n",
       "      <td>watchlists</td>\n",
       "      <td>android</td>\n",
       "      <td>12</td>\n",
       "      <td>146</td>\n",
       "    </tr>\n",
       "    <tr>\n",
       "      <th>1</th>\n",
       "      <td>905476</td>\n",
       "      <td>31-08-2022 15:19</td>\n",
       "      <td>home</td>\n",
       "      <td>windows</td>\n",
       "      <td>10</td>\n",
       "      <td>511</td>\n",
       "    </tr>\n",
       "    <tr>\n",
       "      <th>2</th>\n",
       "      <td>5038318</td>\n",
       "      <td>10-10-2022 08:33</td>\n",
       "      <td>watchlists</td>\n",
       "      <td>windows</td>\n",
       "      <td>10</td>\n",
       "      <td>512</td>\n",
       "    </tr>\n",
       "    <tr>\n",
       "      <th>3</th>\n",
       "      <td>489996</td>\n",
       "      <td>09-09-2022 08:54</td>\n",
       "      <td>library</td>\n",
       "      <td>windows</td>\n",
       "      <td>10</td>\n",
       "      <td>511</td>\n",
       "    </tr>\n",
       "    <tr>\n",
       "      <th>4</th>\n",
       "      <td>3065600</td>\n",
       "      <td>03-09-2022 17:39</td>\n",
       "      <td>settings</td>\n",
       "      <td>windows</td>\n",
       "      <td>10</td>\n",
       "      <td>511</td>\n",
       "    </tr>\n",
       "  </tbody>\n",
       "</table>\n",
       "</div>"
      ],
      "text/plain": [
       "   user_id       occurred_at  event_name       os  os_version  device_id\n",
       "0  4436047  04-10-2022 15:18  watchlists  android          12        146\n",
       "1   905476  31-08-2022 15:19        home  windows          10        511\n",
       "2  5038318  10-10-2022 08:33  watchlists  windows          10        512\n",
       "3   489996  09-09-2022 08:54     library  windows          10        511\n",
       "4  3065600  03-09-2022 17:39    settings  windows          10        511"
      ]
     },
     "execution_count": 4,
     "metadata": {},
     "output_type": "execute_result"
    }
   ],
   "source": [
    "activity_df.head()"
   ]
  },
  {
   "cell_type": "code",
   "execution_count": 5,
   "id": "ce7042f7-713a-4f65-af9e-b8bee3a87803",
   "metadata": {},
   "outputs": [
    {
     "data": {
      "text/html": [
       "<div>\n",
       "<style scoped>\n",
       "    .dataframe tbody tr th:only-of-type {\n",
       "        vertical-align: middle;\n",
       "    }\n",
       "\n",
       "    .dataframe tbody tr th {\n",
       "        vertical-align: top;\n",
       "    }\n",
       "\n",
       "    .dataframe thead th {\n",
       "        text-align: right;\n",
       "    }\n",
       "</style>\n",
       "<table border=\"1\" class=\"dataframe\">\n",
       "  <thead>\n",
       "    <tr style=\"text-align: right;\">\n",
       "      <th></th>\n",
       "      <th>device_id</th>\n",
       "      <th>name</th>\n",
       "      <th>screen_size</th>\n",
       "      <th>os_version</th>\n",
       "      <th>ram</th>\n",
       "      <th>battery</th>\n",
       "      <th>chipset</th>\n",
       "    </tr>\n",
       "  </thead>\n",
       "  <tbody>\n",
       "    <tr>\n",
       "      <th>0</th>\n",
       "      <td>408</td>\n",
       "      <td>Xiaomi Mi 10T Lite 5G</td>\n",
       "      <td>6.67\"</td>\n",
       "      <td>Android 10</td>\n",
       "      <td>6 GB RAM</td>\n",
       "      <td>4820 mAh Li-Po</td>\n",
       "      <td>Qualcomm SM7225 Snapdragon 750G 5G (8 nm)</td>\n",
       "    </tr>\n",
       "    <tr>\n",
       "      <th>1</th>\n",
       "      <td>229</td>\n",
       "      <td>Oppo Find X2 Neo</td>\n",
       "      <td>6.5\"</td>\n",
       "      <td>Android 10</td>\n",
       "      <td>12 GB RAM</td>\n",
       "      <td>4025 mAh Li-Po</td>\n",
       "      <td>Qualcomm SM7250 Snapdragon 765G 5G (7 nm)</td>\n",
       "    </tr>\n",
       "    <tr>\n",
       "      <th>2</th>\n",
       "      <td>452</td>\n",
       "      <td>Infinix Zero 5</td>\n",
       "      <td>5.98\"</td>\n",
       "      <td>Android 7.0</td>\n",
       "      <td>6 GB RAM</td>\n",
       "      <td>4350 mAh Li-Ion</td>\n",
       "      <td>Qualcomm SDM730 Snapdragon 730 (8 nm)</td>\n",
       "    </tr>\n",
       "    <tr>\n",
       "      <th>3</th>\n",
       "      <td>371</td>\n",
       "      <td>Xiaomi Black Shark 4S</td>\n",
       "      <td>6.67\"</td>\n",
       "      <td>Android 11</td>\n",
       "      <td>8/12 GB RAM</td>\n",
       "      <td>4500 mAh Li-Po</td>\n",
       "      <td>Qualcomm SM8250-AC Snapdragon 870 5G (7 nm)</td>\n",
       "    </tr>\n",
       "    <tr>\n",
       "      <th>4</th>\n",
       "      <td>59</td>\n",
       "      <td>Infinix Zero 5G</td>\n",
       "      <td>6.78\"</td>\n",
       "      <td>Android 11</td>\n",
       "      <td>8 GB RAM</td>\n",
       "      <td>5000 mAh Li-Po</td>\n",
       "      <td>Qualcomm SM8150 Snapdragon 855+ (7 nm)</td>\n",
       "    </tr>\n",
       "  </tbody>\n",
       "</table>\n",
       "</div>"
      ],
      "text/plain": [
       "   device_id                   name screen_size   os_version          ram  \\\n",
       "0        408  Xiaomi Mi 10T Lite 5G       6.67\"   Android 10     6 GB RAM   \n",
       "1        229       Oppo Find X2 Neo        6.5\"   Android 10    12 GB RAM   \n",
       "2        452         Infinix Zero 5       5.98\"  Android 7.0     6 GB RAM   \n",
       "3        371  Xiaomi Black Shark 4S       6.67\"   Android 11  8/12 GB RAM   \n",
       "4         59        Infinix Zero 5G       6.78\"   Android 11     8 GB RAM   \n",
       "\n",
       "           battery                                      chipset  \n",
       "0   4820 mAh Li-Po    Qualcomm SM7225 Snapdragon 750G 5G (8 nm)  \n",
       "1   4025 mAh Li-Po    Qualcomm SM7250 Snapdragon 765G 5G (7 nm)  \n",
       "2  4350 mAh Li-Ion        Qualcomm SDM730 Snapdragon 730 (8 nm)  \n",
       "3   4500 mAh Li-Po  Qualcomm SM8250-AC Snapdragon 870 5G (7 nm)  \n",
       "4   5000 mAh Li-Po       Qualcomm SM8150 Snapdragon 855+ (7 nm)  "
      ]
     },
     "execution_count": 5,
     "metadata": {},
     "output_type": "execute_result"
    }
   ],
   "source": [
    "device_df.head()"
   ]
  },
  {
   "cell_type": "code",
   "execution_count": 6,
   "id": "f672c3e3-ceb8-4339-8cb6-0b87162e5cf7",
   "metadata": {},
   "outputs": [
    {
     "data": {
      "text/html": [
       "<div>\n",
       "<style scoped>\n",
       "    .dataframe tbody tr th:only-of-type {\n",
       "        vertical-align: middle;\n",
       "    }\n",
       "\n",
       "    .dataframe tbody tr th {\n",
       "        vertical-align: top;\n",
       "    }\n",
       "\n",
       "    .dataframe thead th {\n",
       "        text-align: right;\n",
       "    }\n",
       "</style>\n",
       "<table border=\"1\" class=\"dataframe\">\n",
       "  <thead>\n",
       "    <tr style=\"text-align: right;\">\n",
       "      <th></th>\n",
       "      <th>user_id</th>\n",
       "      <th>occurred_at</th>\n",
       "      <th>event_name</th>\n",
       "      <th>os</th>\n",
       "      <th>os_version_x</th>\n",
       "      <th>device_id</th>\n",
       "      <th>name</th>\n",
       "      <th>screen_size</th>\n",
       "      <th>os_version_y</th>\n",
       "      <th>ram</th>\n",
       "      <th>battery</th>\n",
       "      <th>chipset</th>\n",
       "    </tr>\n",
       "  </thead>\n",
       "  <tbody>\n",
       "    <tr>\n",
       "      <th>0</th>\n",
       "      <td>4436047</td>\n",
       "      <td>04-10-2022 15:18</td>\n",
       "      <td>watchlists</td>\n",
       "      <td>android</td>\n",
       "      <td>12</td>\n",
       "      <td>146</td>\n",
       "      <td>OnePlus 10 Pro</td>\n",
       "      <td>6.7\"</td>\n",
       "      <td>Android 12</td>\n",
       "      <td>8/12 GB RAM</td>\n",
       "      <td>5000 mAh Li-Po</td>\n",
       "      <td>Qualcomm SM8450 Snapdragon 8 Gen 1 (4 nm)</td>\n",
       "    </tr>\n",
       "    <tr>\n",
       "      <th>1</th>\n",
       "      <td>4436047</td>\n",
       "      <td>07-10-2022 12:57</td>\n",
       "      <td>library</td>\n",
       "      <td>android</td>\n",
       "      <td>12</td>\n",
       "      <td>146</td>\n",
       "      <td>OnePlus 10 Pro</td>\n",
       "      <td>6.7\"</td>\n",
       "      <td>Android 12</td>\n",
       "      <td>8/12 GB RAM</td>\n",
       "      <td>5000 mAh Li-Po</td>\n",
       "      <td>Qualcomm SM8450 Snapdragon 8 Gen 1 (4 nm)</td>\n",
       "    </tr>\n",
       "    <tr>\n",
       "      <th>2</th>\n",
       "      <td>6797762</td>\n",
       "      <td>02-09-2022 08:18</td>\n",
       "      <td>library</td>\n",
       "      <td>android</td>\n",
       "      <td>12</td>\n",
       "      <td>146</td>\n",
       "      <td>OnePlus 10 Pro</td>\n",
       "      <td>6.7\"</td>\n",
       "      <td>Android 12</td>\n",
       "      <td>8/12 GB RAM</td>\n",
       "      <td>5000 mAh Li-Po</td>\n",
       "      <td>Qualcomm SM8450 Snapdragon 8 Gen 1 (4 nm)</td>\n",
       "    </tr>\n",
       "    <tr>\n",
       "      <th>3</th>\n",
       "      <td>4436047</td>\n",
       "      <td>04-10-2022 15:16</td>\n",
       "      <td>settings</td>\n",
       "      <td>android</td>\n",
       "      <td>12</td>\n",
       "      <td>146</td>\n",
       "      <td>OnePlus 10 Pro</td>\n",
       "      <td>6.7\"</td>\n",
       "      <td>Android 12</td>\n",
       "      <td>8/12 GB RAM</td>\n",
       "      <td>5000 mAh Li-Po</td>\n",
       "      <td>Qualcomm SM8450 Snapdragon 8 Gen 1 (4 nm)</td>\n",
       "    </tr>\n",
       "    <tr>\n",
       "      <th>4</th>\n",
       "      <td>5981239</td>\n",
       "      <td>30-09-2022 11:00</td>\n",
       "      <td>home</td>\n",
       "      <td>android</td>\n",
       "      <td>12</td>\n",
       "      <td>146</td>\n",
       "      <td>OnePlus 10 Pro</td>\n",
       "      <td>6.7\"</td>\n",
       "      <td>Android 12</td>\n",
       "      <td>8/12 GB RAM</td>\n",
       "      <td>5000 mAh Li-Po</td>\n",
       "      <td>Qualcomm SM8450 Snapdragon 8 Gen 1 (4 nm)</td>\n",
       "    </tr>\n",
       "  </tbody>\n",
       "</table>\n",
       "</div>"
      ],
      "text/plain": [
       "   user_id       occurred_at  event_name       os  os_version_x  device_id  \\\n",
       "0  4436047  04-10-2022 15:18  watchlists  android            12        146   \n",
       "1  4436047  07-10-2022 12:57     library  android            12        146   \n",
       "2  6797762  02-09-2022 08:18     library  android            12        146   \n",
       "3  4436047  04-10-2022 15:16    settings  android            12        146   \n",
       "4  5981239  30-09-2022 11:00        home  android            12        146   \n",
       "\n",
       "             name screen_size os_version_y          ram         battery  \\\n",
       "0  OnePlus 10 Pro        6.7\"   Android 12  8/12 GB RAM  5000 mAh Li-Po   \n",
       "1  OnePlus 10 Pro        6.7\"   Android 12  8/12 GB RAM  5000 mAh Li-Po   \n",
       "2  OnePlus 10 Pro        6.7\"   Android 12  8/12 GB RAM  5000 mAh Li-Po   \n",
       "3  OnePlus 10 Pro        6.7\"   Android 12  8/12 GB RAM  5000 mAh Li-Po   \n",
       "4  OnePlus 10 Pro        6.7\"   Android 12  8/12 GB RAM  5000 mAh Li-Po   \n",
       "\n",
       "                                     chipset  \n",
       "0  Qualcomm SM8450 Snapdragon 8 Gen 1 (4 nm)  \n",
       "1  Qualcomm SM8450 Snapdragon 8 Gen 1 (4 nm)  \n",
       "2  Qualcomm SM8450 Snapdragon 8 Gen 1 (4 nm)  \n",
       "3  Qualcomm SM8450 Snapdragon 8 Gen 1 (4 nm)  \n",
       "4  Qualcomm SM8450 Snapdragon 8 Gen 1 (4 nm)  "
      ]
     },
     "execution_count": 6,
     "metadata": {},
     "output_type": "execute_result"
    }
   ],
   "source": [
    "users_df = pd.merge(activity_df,device_df, on='device_id', how='inner')\n",
    "users_df.head(n=5)"
   ]
  },
  {
   "cell_type": "code",
   "execution_count": 7,
   "id": "69dead71-29f2-4eab-99fd-64dc7b362a81",
   "metadata": {},
   "outputs": [
    {
     "name": "stdout",
     "output_type": "stream",
     "text": [
      "<class 'pandas.core.frame.DataFrame'>\n",
      "RangeIndex: 368714 entries, 0 to 368713\n",
      "Data columns (total 12 columns):\n",
      " #   Column        Non-Null Count   Dtype \n",
      "---  ------        --------------   ----- \n",
      " 0   user_id       368714 non-null  int64 \n",
      " 1   occurred_at   368714 non-null  object\n",
      " 2   event_name    368714 non-null  object\n",
      " 3   os            368714 non-null  object\n",
      " 4   os_version_x  368714 non-null  int64 \n",
      " 5   device_id     368714 non-null  int64 \n",
      " 6   name          368714 non-null  object\n",
      " 7   screen_size   255370 non-null  object\n",
      " 8   os_version_y  368714 non-null  object\n",
      " 9   ram           272888 non-null  object\n",
      " 10  battery       255370 non-null  object\n",
      " 11  chipset       368714 non-null  object\n",
      "dtypes: int64(3), object(9)\n",
      "memory usage: 33.8+ MB\n"
     ]
    }
   ],
   "source": [
    "users_df.info()"
   ]
  },
  {
   "cell_type": "markdown",
   "id": "0f75096e-0d6f-49d4-96b1-6e3e581ad1da",
   "metadata": {},
   "source": [
    "## VARIABLE GUIDE"
   ]
  },
  {
   "cell_type": "code",
   "execution_count": 8,
   "id": "3e76eb32-be15-4268-a5e8-e1010f7dfbe3",
   "metadata": {},
   "outputs": [
    {
     "data": {
      "text/plain": [
       "Index(['user_id', 'occurred_at', 'event_name', 'os', 'os_version_x',\n",
       "       'device_id', 'name', 'screen_size', 'os_version_y', 'ram', 'battery',\n",
       "       'chipset'],\n",
       "      dtype='object')"
      ]
     },
     "execution_count": 8,
     "metadata": {},
     "output_type": "execute_result"
    }
   ],
   "source": [
    "users_df.columns"
   ]
  },
  {
   "cell_type": "markdown",
   "id": "7d024982-74e6-4a75-8a84-0c963f56eb12",
   "metadata": {},
   "source": [
    "1. user_id: unique used id for each individual user\n",
    "2. occurred_at: time at which an event ocurred (ex: logging in, going to home page, using the search button)\n",
    "3. event_name: name of the event occured\n",
    "              * query_result_0: Error\n",
    "              * autocomplete_engine: user selecting the autocomplete search option\n",
    "4. os_version_x: os version of device used\n",
    "5. os: os of decive used\n",
    "6. device_id: unique device id for each device\n",
    "7. name: name of device\n",
    "8. screen_size: screen size of device\n",
    "10. ram: ram storage of device\n",
    "11. battery: battery of device\n",
    "12. chipset: chipset used in the device"
   ]
  },
  {
   "cell_type": "markdown",
   "id": "86e5d1df-bff4-4eca-802f-693c910267be",
   "metadata": {},
   "source": [
    "## DATA WRANGLING"
   ]
  },
  {
   "cell_type": "code",
   "execution_count": 9,
   "id": "9e6ab4da-94c0-4b91-baee-ced5fd5f8ad1",
   "metadata": {},
   "outputs": [
    {
     "data": {
      "text/html": [
       "<div>\n",
       "<style scoped>\n",
       "    .dataframe tbody tr th:only-of-type {\n",
       "        vertical-align: middle;\n",
       "    }\n",
       "\n",
       "    .dataframe tbody tr th {\n",
       "        vertical-align: top;\n",
       "    }\n",
       "\n",
       "    .dataframe thead th {\n",
       "        text-align: right;\n",
       "    }\n",
       "</style>\n",
       "<table border=\"1\" class=\"dataframe\">\n",
       "  <thead>\n",
       "    <tr style=\"text-align: right;\">\n",
       "      <th></th>\n",
       "      <th>user_id</th>\n",
       "      <th>occurred_at</th>\n",
       "      <th>event_name</th>\n",
       "      <th>os</th>\n",
       "      <th>os_version_x</th>\n",
       "      <th>device_id</th>\n",
       "      <th>name</th>\n",
       "      <th>screen_size</th>\n",
       "      <th>os_version_y</th>\n",
       "      <th>ram</th>\n",
       "      <th>battery</th>\n",
       "      <th>chipset</th>\n",
       "      <th>year</th>\n",
       "      <th>month</th>\n",
       "      <th>date</th>\n",
       "      <th>hour</th>\n",
       "      <th>minutes</th>\n",
       "    </tr>\n",
       "  </thead>\n",
       "  <tbody>\n",
       "    <tr>\n",
       "      <th>0</th>\n",
       "      <td>4436047</td>\n",
       "      <td>2022-10-04 15:18:00</td>\n",
       "      <td>watchlists</td>\n",
       "      <td>android</td>\n",
       "      <td>12</td>\n",
       "      <td>146</td>\n",
       "      <td>OnePlus 10 Pro</td>\n",
       "      <td>6.7\"</td>\n",
       "      <td>Android 12</td>\n",
       "      <td>8/12 GB RAM</td>\n",
       "      <td>5000 mAh Li-Po</td>\n",
       "      <td>Qualcomm SM8450 Snapdragon 8 Gen 1 (4 nm)</td>\n",
       "      <td>2022</td>\n",
       "      <td>10</td>\n",
       "      <td>4</td>\n",
       "      <td>15</td>\n",
       "      <td>18</td>\n",
       "    </tr>\n",
       "  </tbody>\n",
       "</table>\n",
       "</div>"
      ],
      "text/plain": [
       "   user_id         occurred_at  event_name       os  os_version_x  device_id  \\\n",
       "0  4436047 2022-10-04 15:18:00  watchlists  android            12        146   \n",
       "\n",
       "             name screen_size os_version_y          ram         battery  \\\n",
       "0  OnePlus 10 Pro        6.7\"   Android 12  8/12 GB RAM  5000 mAh Li-Po   \n",
       "\n",
       "                                     chipset  year  month  date  hour  minutes  \n",
       "0  Qualcomm SM8450 Snapdragon 8 Gen 1 (4 nm)  2022     10     4    15       18  "
      ]
     },
     "execution_count": 9,
     "metadata": {},
     "output_type": "execute_result"
    }
   ],
   "source": [
    "users_df[\"occurred_at\"]=pd.to_datetime(users_df[\"occurred_at\"],format=\"%d-%m-%Y %H:%M\")\n",
    "users_df[\"year\"]=users_df[\"occurred_at\"].dt.year\n",
    "users_df[\"month\"]=users_df[\"occurred_at\"].dt.month\n",
    "users_df[\"date\"]=users_df[\"occurred_at\"].dt.day\n",
    "users_df[\"hour\"]=users_df[\"occurred_at\"].dt.hour\n",
    "users_df[\"minutes\"]=users_df[\"occurred_at\"].dt.minute\n",
    "users_df.head(n=1)"
   ]
  },
  {
   "cell_type": "markdown",
   "id": "ce371a8b-f500-4436-8eed-c220b75d5926",
   "metadata": {},
   "source": [
    "## ANALYSING THE DATA"
   ]
  },
  {
   "cell_type": "code",
   "execution_count": 10,
   "id": "9a0f8f58-141d-49eb-b67c-f0b682d6b001",
   "metadata": {},
   "outputs": [],
   "source": [
    "## sorting the dataframe based on it's user_id"
   ]
  },
  {
   "cell_type": "code",
   "execution_count": 11,
   "id": "2b9ef2a5-6cde-45bf-a8fd-1e4a485d4933",
   "metadata": {},
   "outputs": [
    {
     "data": {
      "text/html": [
       "<div>\n",
       "<style scoped>\n",
       "    .dataframe tbody tr th:only-of-type {\n",
       "        vertical-align: middle;\n",
       "    }\n",
       "\n",
       "    .dataframe tbody tr th {\n",
       "        vertical-align: top;\n",
       "    }\n",
       "\n",
       "    .dataframe thead th {\n",
       "        text-align: right;\n",
       "    }\n",
       "</style>\n",
       "<table border=\"1\" class=\"dataframe\">\n",
       "  <thead>\n",
       "    <tr style=\"text-align: right;\">\n",
       "      <th></th>\n",
       "      <th>user_id</th>\n",
       "      <th>occurred_at</th>\n",
       "      <th>event_name</th>\n",
       "      <th>os</th>\n",
       "      <th>os_version_x</th>\n",
       "      <th>device_id</th>\n",
       "      <th>name</th>\n",
       "      <th>screen_size</th>\n",
       "      <th>os_version_y</th>\n",
       "      <th>ram</th>\n",
       "      <th>battery</th>\n",
       "      <th>chipset</th>\n",
       "      <th>year</th>\n",
       "      <th>month</th>\n",
       "      <th>date</th>\n",
       "      <th>hour</th>\n",
       "      <th>minutes</th>\n",
       "    </tr>\n",
       "  </thead>\n",
       "  <tbody>\n",
       "    <tr>\n",
       "      <th>342301</th>\n",
       "      <td>9750</td>\n",
       "      <td>2022-09-05 14:13:00</td>\n",
       "      <td>home</td>\n",
       "      <td>android</td>\n",
       "      <td>11</td>\n",
       "      <td>380</td>\n",
       "      <td>Xiaomi Redmi Note 11 4G</td>\n",
       "      <td>6.5\"</td>\n",
       "      <td>Android 11</td>\n",
       "      <td>4/6 GB RAM</td>\n",
       "      <td>5000 mAh Li-Po</td>\n",
       "      <td>Mediatek Helio G88 (12nm)</td>\n",
       "      <td>2022</td>\n",
       "      <td>9</td>\n",
       "      <td>5</td>\n",
       "      <td>14</td>\n",
       "      <td>13</td>\n",
       "    </tr>\n",
       "    <tr>\n",
       "      <th>342241</th>\n",
       "      <td>9750</td>\n",
       "      <td>2022-09-18 13:57:00</td>\n",
       "      <td>library</td>\n",
       "      <td>android</td>\n",
       "      <td>11</td>\n",
       "      <td>380</td>\n",
       "      <td>Xiaomi Redmi Note 11 4G</td>\n",
       "      <td>6.5\"</td>\n",
       "      <td>Android 11</td>\n",
       "      <td>4/6 GB RAM</td>\n",
       "      <td>5000 mAh Li-Po</td>\n",
       "      <td>Mediatek Helio G88 (12nm)</td>\n",
       "      <td>2022</td>\n",
       "      <td>9</td>\n",
       "      <td>18</td>\n",
       "      <td>13</td>\n",
       "      <td>57</td>\n",
       "    </tr>\n",
       "    <tr>\n",
       "      <th>342243</th>\n",
       "      <td>9750</td>\n",
       "      <td>2022-09-24 08:51:00</td>\n",
       "      <td>run_query</td>\n",
       "      <td>android</td>\n",
       "      <td>11</td>\n",
       "      <td>380</td>\n",
       "      <td>Xiaomi Redmi Note 11 4G</td>\n",
       "      <td>6.5\"</td>\n",
       "      <td>Android 11</td>\n",
       "      <td>4/6 GB RAM</td>\n",
       "      <td>5000 mAh Li-Po</td>\n",
       "      <td>Mediatek Helio G88 (12nm)</td>\n",
       "      <td>2022</td>\n",
       "      <td>9</td>\n",
       "      <td>24</td>\n",
       "      <td>8</td>\n",
       "      <td>51</td>\n",
       "    </tr>\n",
       "    <tr>\n",
       "      <th>342244</th>\n",
       "      <td>9750</td>\n",
       "      <td>2022-08-30 10:57:00</td>\n",
       "      <td>home</td>\n",
       "      <td>android</td>\n",
       "      <td>11</td>\n",
       "      <td>380</td>\n",
       "      <td>Xiaomi Redmi Note 11 4G</td>\n",
       "      <td>6.5\"</td>\n",
       "      <td>Android 11</td>\n",
       "      <td>4/6 GB RAM</td>\n",
       "      <td>5000 mAh Li-Po</td>\n",
       "      <td>Mediatek Helio G88 (12nm)</td>\n",
       "      <td>2022</td>\n",
       "      <td>8</td>\n",
       "      <td>30</td>\n",
       "      <td>10</td>\n",
       "      <td>57</td>\n",
       "    </tr>\n",
       "    <tr>\n",
       "      <th>342245</th>\n",
       "      <td>9750</td>\n",
       "      <td>2022-09-18 13:57:00</td>\n",
       "      <td>watchlists</td>\n",
       "      <td>android</td>\n",
       "      <td>11</td>\n",
       "      <td>380</td>\n",
       "      <td>Xiaomi Redmi Note 11 4G</td>\n",
       "      <td>6.5\"</td>\n",
       "      <td>Android 11</td>\n",
       "      <td>4/6 GB RAM</td>\n",
       "      <td>5000 mAh Li-Po</td>\n",
       "      <td>Mediatek Helio G88 (12nm)</td>\n",
       "      <td>2022</td>\n",
       "      <td>9</td>\n",
       "      <td>18</td>\n",
       "      <td>13</td>\n",
       "      <td>57</td>\n",
       "    </tr>\n",
       "  </tbody>\n",
       "</table>\n",
       "</div>"
      ],
      "text/plain": [
       "        user_id         occurred_at  event_name       os  os_version_x  \\\n",
       "342301     9750 2022-09-05 14:13:00        home  android            11   \n",
       "342241     9750 2022-09-18 13:57:00     library  android            11   \n",
       "342243     9750 2022-09-24 08:51:00   run_query  android            11   \n",
       "342244     9750 2022-08-30 10:57:00        home  android            11   \n",
       "342245     9750 2022-09-18 13:57:00  watchlists  android            11   \n",
       "\n",
       "        device_id                     name screen_size os_version_y  \\\n",
       "342301        380  Xiaomi Redmi Note 11 4G        6.5\"   Android 11   \n",
       "342241        380  Xiaomi Redmi Note 11 4G        6.5\"   Android 11   \n",
       "342243        380  Xiaomi Redmi Note 11 4G        6.5\"   Android 11   \n",
       "342244        380  Xiaomi Redmi Note 11 4G        6.5\"   Android 11   \n",
       "342245        380  Xiaomi Redmi Note 11 4G        6.5\"   Android 11   \n",
       "\n",
       "               ram         battery                    chipset  year  month  \\\n",
       "342301  4/6 GB RAM  5000 mAh Li-Po  Mediatek Helio G88 (12nm)  2022      9   \n",
       "342241  4/6 GB RAM  5000 mAh Li-Po  Mediatek Helio G88 (12nm)  2022      9   \n",
       "342243  4/6 GB RAM  5000 mAh Li-Po  Mediatek Helio G88 (12nm)  2022      9   \n",
       "342244  4/6 GB RAM  5000 mAh Li-Po  Mediatek Helio G88 (12nm)  2022      8   \n",
       "342245  4/6 GB RAM  5000 mAh Li-Po  Mediatek Helio G88 (12nm)  2022      9   \n",
       "\n",
       "        date  hour  minutes  \n",
       "342301     5    14       13  \n",
       "342241    18    13       57  \n",
       "342243    24     8       51  \n",
       "342244    30    10       57  \n",
       "342245    18    13       57  "
      ]
     },
     "execution_count": 11,
     "metadata": {},
     "output_type": "execute_result"
    }
   ],
   "source": [
    "users_df = users_df.sort_values(by='user_id')\n",
    "users_df.head(n=5)"
   ]
  },
  {
   "cell_type": "markdown",
   "id": "2ff9f69b-b9eb-4df9-8b59-445954ff68a3",
   "metadata": {},
   "source": [
    "### Are the users searching actively?"
   ]
  },
  {
   "cell_type": "markdown",
   "id": "9ea0bb26-1b34-4138-9d8a-1349ae7bacd7",
   "metadata": {},
   "source": [
    "Here, we analyize the amount of time someone has searched something i.e the run_query command"
   ]
  },
  {
   "cell_type": "code",
   "execution_count": 12,
   "id": "3b2bee5c-cb84-488c-b9fa-a1eb2923be83",
   "metadata": {},
   "outputs": [
    {
     "name": "stdout",
     "output_type": "stream",
     "text": [
      "       user_id  run_query_count\n",
      "0         9750               11\n",
      "1        11681               21\n",
      "2        16284                3\n",
      "3        17563               16\n",
      "4        21504               36\n",
      "...        ...              ...\n",
      "3775  10005212               14\n",
      "3776  10006726                9\n",
      "3777  10010781               80\n",
      "3778  10012030               19\n",
      "3779  10013277                1\n",
      "\n",
      "[3780 rows x 2 columns]\n"
     ]
    }
   ],
   "source": [
    "run_query_df = users_df[users_df['event_name'] == 'run_query']\n",
    "query_counts = run_query_df.groupby('user_id').size().reset_index(name='run_query_count')\n",
    "print(query_counts)\n"
   ]
  },
  {
   "cell_type": "code",
   "execution_count": 13,
   "id": "83205a67-dfcd-4342-ac3e-be2c0ff7d882",
   "metadata": {},
   "outputs": [
    {
     "data": {
      "image/png": "[encoded data removed]",
      "text/plain": [
       "<Figure size 640x480 with 1 Axes>"
      ]
     },
     "metadata": {},
     "output_type": "display_data"
    }
   ],
   "source": [
    "sns.barplot(x='user_id', y='run_query_count', data=query_counts)\n",
    "plt.title('Frequency of Search')\n",
    "plt.xlabel('User ID')\n",
    "plt.ylabel('Run Query Count')\n",
    "plt.show()"
   ]
  },
  {
   "cell_type": "markdown",
   "id": "92d0fb07-8ba4-49ce-aa9f-1220929d2162",
   "metadata": {},
   "source": [
    "Thus the frequency varies a lot per user with most being between 140 to 160 and least ranging from 0-20.\n",
    "If users search a lot, it is likely that they find search useful (an exception to this would be if users search repeatedly within a short timeframe, it is likely they are refining their terms because they are unable to find what they wanted initially)"
   ]
  },
  {
   "cell_type": "markdown",
   "id": "bc977dc0-8456-4abb-aa45-184186ac0ed6",
   "metadata": {},
   "source": [
    "### Nth result from top"
   ]
  },
  {
   "cell_type": "code",
   "execution_count": 14,
   "id": "c50ad29e-13da-4233-9fc3-1f3cb4dfb7fc",
   "metadata": {},
   "outputs": [
    {
     "name": "stdout",
     "output_type": "stream",
     "text": [
      "             event_name  count\n",
      "0                  home  94065\n",
      "1            watchlists  59248\n",
      "2               library  55936\n",
      "3             run_query  54541\n",
      "4                 login  38610\n",
      "5              settings  33105\n",
      "6   autocomplete_engine  17820\n",
      "7        query_result_0   5617\n",
      "8        query_result_2   1499\n",
      "9        query_result_1   1413\n",
      "10       query_result_4   1264\n",
      "11       query_result_3   1134\n",
      "12       query_result_5    968\n",
      "13       query_result_6    805\n",
      "14       query_result_9    784\n",
      "15       query_result_7    709\n",
      "16       query_result_8    690\n",
      "17      query_result_10    506\n"
     ]
    }
   ],
   "source": [
    "event_counts = users_df['event_name'].value_counts().reset_index(name='count')\n",
    "print(event_counts)"
   ]
  },
  {
   "cell_type": "code",
   "execution_count": 15,
   "id": "0feb6a56-3ab0-4d52-a0b1-d53b10b59673",
   "metadata": {},
   "outputs": [
    {
     "data": {
      "image/png": "[encoded data removed]",
      "text/plain": [
       "<Figure size 800x600 with 1 Axes>"
      ]
     },
     "metadata": {},
     "output_type": "display_data"
    }
   ],
   "source": [
    "plt.figure(figsize=(8, 6))\n",
    "sns.barplot(x='event_name', y='count', data=event_counts)\n",
    "plt.title('Count of Events by Event Name')\n",
    "plt.xlabel('Event Name')\n",
    "plt.ylabel('Count')\n",
    "plt.xticks(rotation=45)\n",
    "plt.show()"
   ]
  },
  {
   "cell_type": "code",
   "execution_count": 16,
   "id": "641b6654-9b53-4684-b6ec-b3a18232fdcb",
   "metadata": {},
   "outputs": [
    {
     "name": "stdout",
     "output_type": "stream",
     "text": [
      "The search bar has been used 54541 no of times\n",
      "First search result was selected 1413 no of times\n",
      "Second search result was selected 1499 no of times\n",
      "Third search result was selected 1134 no of times\n",
      "Fourth search result was selected 1264 no of times\n",
      "Fifth search result was selected 968 no of times\n",
      "sixth search result was selected 805 no of times\n",
      "Seventh search result was selected 784 no of times\n",
      "Eighth search result was selected 709 no of times\n",
      "Ninth search result was selected 690 no of times\n",
      "Tenth search result was selected 506 no of times\n"
     ]
    }
   ],
   "source": [
    "print(\"The search bar has been used\",54541,\"no of times\")\n",
    "print(f\"First search result was selected {1413} no of times\")\n",
    "print(f\"Second search result was selected {1499} no of times\")\n",
    "print(f\"Third search result was selected {1134} no of times\")\n",
    "print(f\"Fourth search result was selected {1264} no of times\")\n",
    "print(f\"Fifth search result was selected {968} no of times\")\n",
    "print(f\"sixth search result was selected {805} no of times\")\n",
    "print(f\"Seventh search result was selected {784} no of times\")\n",
    "print(f\"Eighth search result was selected {709} no of times\")\n",
    "print(f\"Ninth search result was selected {690} no of times\")\n",
    "print(f\"Tenth search result was selected {506} no of times\")"
   ]
  },
  {
   "cell_type": "markdown",
   "id": "3e846476-eeae-4e86-ae67-0c24cdc499dc",
   "metadata": {},
   "source": [
    "* Thus there are small but a 'non-negligible' amount of people that select the 5th,6th,7th....10th result from the top.\n",
    "* This could indicate that the search results from (1-4) are not good enough\n",
    "* This could also indicate that the search results are not ordered properly."
   ]
  },
  {
   "cell_type": "markdown",
   "id": "179a3297-0b96-437c-a928-82fbf42c4179",
   "metadata": {},
   "source": [
    "### Errors in Search bar"
   ]
  },
  {
   "cell_type": "code",
   "execution_count": 17,
   "id": "84040dff-adc4-4a22-9198-0cabf00f4759",
   "metadata": {},
   "outputs": [
    {
     "name": "stdout",
     "output_type": "stream",
     "text": [
      "Count of 'run_query_0': 5617\n"
     ]
    }
   ],
   "source": [
    "query_result_0_count = (users_df['event_name'] == 'query_result_0').sum()\n",
    "print(f\"Count of 'run_query_0': {query_result_0_count}\")"
   ]
  },
  {
   "cell_type": "markdown",
   "id": "7c3cd7cf-d17a-42c1-91e2-b0a146844949",
   "metadata": {},
   "source": [
    "The Search bar has shown an error 5617 times"
   ]
  },
  {
   "cell_type": "code",
   "execution_count": 18,
   "id": "f4e26a74-fea3-4ff4-ad28-8904e7e5ccf7",
   "metadata": {},
   "outputs": [
    {
     "name": "stdout",
     "output_type": "stream",
     "text": [
      "        os  query_result_0_count\n",
      "0  android                  5617\n"
     ]
    }
   ],
   "source": [
    "query_counts = users_df[users_df['event_name'] == 'query_result_0'].groupby('os').size().reset_index(name='query_result_0_count')\n",
    "print(query_counts)"
   ]
  },
  {
   "cell_type": "code",
   "execution_count": 19,
   "id": "1c1278f8-e55b-4d4a-a3a0-98efcac1e16a",
   "metadata": {
    "scrolled": true
   },
   "outputs": [
    {
     "data": {
      "image/png": "[encoded data removed]",
      "text/plain": [
       "<Figure size 640x480 with 1 Axes>"
      ]
     },
     "metadata": {},
     "output_type": "display_data"
    }
   ],
   "source": [
    "plt.pie(query_counts['query_result_0_count'], labels=query_counts['os'], autopct='%1.1f%%', startangle=90)\n",
    "plt.title('Distribution of Errors based on OS')\n",
    "plt.show()"
   ]
  },
  {
   "cell_type": "markdown",
   "id": "fd6bb253-7ca2-415b-b0be-337c00cffb24",
   "metadata": {},
   "source": [
    "* Suprisingly we see from the data that all the errors are caused in android phones"
   ]
  },
  {
   "cell_type": "code",
   "execution_count": 20,
   "id": "982b6662-9e9e-4643-8d28-d5ffbd678093",
   "metadata": {},
   "outputs": [],
   "source": [
    "## Now we check other factors of the android os that might be causing errors"
   ]
  },
  {
   "cell_type": "code",
   "execution_count": 21,
   "id": "3c077c49-7d25-40ee-ba7e-982dfa772d0b",
   "metadata": {},
   "outputs": [
    {
     "name": "stdout",
     "output_type": "stream",
     "text": [
      "    os_version_x          ram                                chipset  \\\n",
      "0             12   2/3 GB RAM  Mediatek MT6893 Dimensity 1200 (6 nm)   \n",
      "1             12     4 GB RAM  Mediatek MT6833P Dimensity 810 (6 nm)   \n",
      "2             12   4/6 GB RAM   Mediatek MT6833 Dimensity 700 (7 nm)   \n",
      "3             12   4/6 GB RAM  Mediatek MT6833P Dimensity 810 (6 nm)   \n",
      "4             12   4/8 GB RAM  Mediatek MT6833P Dimensity 810 (6 nm)   \n",
      "5             12     6 GB RAM   Mediatek MT6833 Dimensity 700 (7 nm)   \n",
      "6             12  6-12 GB RAM          Mediatek Dimensity 930 (6 nm)   \n",
      "7             12   6/8 GB RAM         Mediatek Dimensity 1300 (6 nm)   \n",
      "8             12   6/8 GB RAM         Mediatek Dimensity 8100 (5 nm)   \n",
      "9             12   6/8 GB RAM          Mediatek Dimensity 920 (6 nm)   \n",
      "10            12   6/8 GB RAM          Mediatek Dimensity 920 (6 nm)   \n",
      "11            12   6/8 GB RAM  Mediatek MT6833P Dimensity 810 (6 nm)   \n",
      "12            12   6/8 GB RAM   Mediatek MT6877 Dimensity 900 (6 nm)   \n",
      "13            12     8 GB RAM         Mediatek Dimensity 1300 (6 nm)   \n",
      "14            12     8 GB RAM         Mediatek Dimensity 8100 (5 nm)   \n",
      "15            12     8 GB RAM  Mediatek MT6833P Dimensity 810 (6 nm)   \n",
      "16            12     8 GB RAM  Mediatek MT6853 Dimensity 800U (7 nm)   \n",
      "17            12     8 GB RAM  Mediatek MT6853V Dimensity 720 (7 nm)   \n",
      "18            12  8/12 GB RAM         Mediatek Dimensity 1300 (6 nm)   \n",
      "19            12  8/12 GB RAM     Mediatek Dimensity 8100-Max (5 nm)   \n",
      "20            12  8/12 GB RAM     Mediatek Dimensity 8100-Max (5 nm)   \n",
      "21            12  8/12 GB RAM   Mediatek MT6877 Dimensity 900 (6 nm)   \n",
      "\n",
      "            battery  run_query_0_count  \n",
      "0    5000 mAh Li-Po                173  \n",
      "1    3700 mAh Li-Po                166  \n",
      "2    5000 mAh Li-Po                447  \n",
      "3    5000 mAh Li-Po                214  \n",
      "4    5000 mAh Li-Po                206  \n",
      "5    5000 mAh Li-Po                217  \n",
      "6    4500 mAh Li-Po                216  \n",
      "7    6000 mAh Li-Po                217  \n",
      "8    5080 mAh Li-Po                234  \n",
      "9    4500 mAh Li-Po                253  \n",
      "10   5160 mAh Li-Po                157  \n",
      "11   5000 mAh Li-Po                396  \n",
      "12  5000 mAh Li-Ion                168  \n",
      "13   4500 mAh Li-Po                212  \n",
      "14   4400 mAh Li-Po                268  \n",
      "15   5000 mAh Li-Po                473  \n",
      "16   4310 mAh Li-Po                246  \n",
      "17   4040 mAh Li-Po                290  \n",
      "18   4500 mAh Li-Po                475  \n",
      "19   4500 mAh Li-Po                143  \n",
      "20   5000 mAh Li-Po                209  \n",
      "21   4300 mAh Li-Po                237  \n"
     ]
    }
   ],
   "source": [
    "run_query_0_count_by_attributes = users_df[users_df['event_name'] == 'query_result_0'].groupby(['os_version_x', 'ram', 'chipset', 'battery']).size().reset_index(name='run_query_0_count')\n",
    "\n",
    "print(run_query_0_count_by_attributes)"
   ]
  },
  {
   "cell_type": "code",
   "execution_count": 22,
   "id": "2a31669c-c958-43fe-9dcc-32e4bf92f29d",
   "metadata": {},
   "outputs": [
    {
     "data": {
      "text/html": [
       "<div>\n",
       "<style scoped>\n",
       "    .dataframe tbody tr th:only-of-type {\n",
       "        vertical-align: middle;\n",
       "    }\n",
       "\n",
       "    .dataframe tbody tr th {\n",
       "        vertical-align: top;\n",
       "    }\n",
       "\n",
       "    .dataframe thead th {\n",
       "        text-align: right;\n",
       "    }\n",
       "</style>\n",
       "<table border=\"1\" class=\"dataframe\">\n",
       "  <thead>\n",
       "    <tr style=\"text-align: right;\">\n",
       "      <th></th>\n",
       "      <th>os_version_x</th>\n",
       "      <th>run_query_0_count</th>\n",
       "    </tr>\n",
       "  </thead>\n",
       "  <tbody>\n",
       "    <tr>\n",
       "      <th>count</th>\n",
       "      <td>22.0</td>\n",
       "      <td>22.000000</td>\n",
       "    </tr>\n",
       "    <tr>\n",
       "      <th>mean</th>\n",
       "      <td>12.0</td>\n",
       "      <td>255.318182</td>\n",
       "    </tr>\n",
       "    <tr>\n",
       "      <th>std</th>\n",
       "      <td>0.0</td>\n",
       "      <td>100.410769</td>\n",
       "    </tr>\n",
       "    <tr>\n",
       "      <th>min</th>\n",
       "      <td>12.0</td>\n",
       "      <td>143.000000</td>\n",
       "    </tr>\n",
       "    <tr>\n",
       "      <th>25%</th>\n",
       "      <td>12.0</td>\n",
       "      <td>206.750000</td>\n",
       "    </tr>\n",
       "    <tr>\n",
       "      <th>50%</th>\n",
       "      <td>12.0</td>\n",
       "      <td>217.000000</td>\n",
       "    </tr>\n",
       "    <tr>\n",
       "      <th>75%</th>\n",
       "      <td>12.0</td>\n",
       "      <td>264.250000</td>\n",
       "    </tr>\n",
       "    <tr>\n",
       "      <th>max</th>\n",
       "      <td>12.0</td>\n",
       "      <td>475.000000</td>\n",
       "    </tr>\n",
       "  </tbody>\n",
       "</table>\n",
       "</div>"
      ],
      "text/plain": [
       "       os_version_x  run_query_0_count\n",
       "count          22.0          22.000000\n",
       "mean           12.0         255.318182\n",
       "std             0.0         100.410769\n",
       "min            12.0         143.000000\n",
       "25%            12.0         206.750000\n",
       "50%            12.0         217.000000\n",
       "75%            12.0         264.250000\n",
       "max            12.0         475.000000"
      ]
     },
     "execution_count": 22,
     "metadata": {},
     "output_type": "execute_result"
    }
   ],
   "source": [
    "run_query_0_count_by_attributes.describe()"
   ]
  },
  {
   "cell_type": "code",
   "execution_count": 23,
   "id": "47603e3f-c571-4f2d-a9ef-dc53087c06d4",
   "metadata": {},
   "outputs": [
    {
     "data": {
      "text/plain": [
       "<Figure size 800x600 with 0 Axes>"
      ]
     },
     "metadata": {},
     "output_type": "display_data"
    },
    {
     "data": {
      "image/png": "[encoded data removed]",
      "text/plain": [
       "<Figure size 1200x800 with 1 Axes>"
      ]
     },
     "metadata": {},
     "output_type": "display_data"
    }
   ],
   "source": [
    "# Plotting\n",
    "run_query_0_df = users_df[users_df['event_name'] == 'query_result_0']\n",
    "plt.figure(figsize=(8,6))  \n",
    "\n",
    "# Group by multiple columns and count occurrences\n",
    "grouped_df = run_query_0_df.groupby(['os_version_x', 'ram', 'chipset', 'battery']).size().reset_index(name='query_result_0_count')\n",
    "\n",
    "# Plotting a grouped bar plot using seaborn\n",
    "plt.figure(figsize=(12, 8))\n",
    "sns.barplot(x='os_version_x', y='query_result_0_count', hue='ram', data=grouped_df)\n",
    "plt.title('Android features causing Erros')\n",
    "plt.xlabel('OS Version')\n",
    "plt.ylabel('Count of \"run_query_0\"')\n",
    "plt.show()"
   ]
  },
  {
   "cell_type": "code",
   "execution_count": 24,
   "id": "09786a47-a5da-45f7-985d-def326a01441",
   "metadata": {},
   "outputs": [
    {
     "name": "stdout",
     "output_type": "stream",
     "text": [
      "Mode of 'os_version_x': 12\n",
      "Mode of 'ram': 6/8 GB RAM\n",
      "Mode of 'chipset': Mediatek MT6833P Dimensity 810 (6 nm)\n",
      "Mode of 'battery': 5000 mAh Li-Po\n"
     ]
    }
   ],
   "source": [
    "mode_os_version_x = run_query_0_count_by_attributes['os_version_x'].mode()[0]\n",
    "mode_ram = run_query_0_count_by_attributes['ram'].mode()[0]\n",
    "mode_chipset = run_query_0_count_by_attributes['chipset'].mode()[0]\n",
    "mode_battery = run_query_0_count_by_attributes['battery'].mode()[0]\n",
    "\n",
    "# Display the modes\n",
    "print(f\"Mode of 'os_version_x': {mode_os_version_x}\")\n",
    "print(f\"Mode of 'ram': {mode_ram}\")\n",
    "print(f\"Mode of 'chipset': {mode_chipset}\")\n",
    "print(f\"Mode of 'battery': {mode_battery}\")"
   ]
  },
  {
   "cell_type": "markdown",
   "id": "cfdbe919-f7e5-47aa-b348-aae0eb5a6495",
   "metadata": {},
   "source": [
    "* Thus,we see that 100% errors occur in OS Version 12.\n",
    "* Most of these errors occur in devices with 6/8 GB ram.\n",
    "* The chipset with heighest error is Mediatek MT6833P Dimensity 810 (6 nm)\n",
    "* And the device battery with most error is 5000 mAh Li-Po\r\n"
   ]
  },
  {
   "cell_type": "markdown",
   "id": "29989cbd-bcd8-48b2-8d30-caf6777c0138",
   "metadata": {},
   "source": [
    "### Automated clickthrough rate"
   ]
  },
  {
   "cell_type": "code",
   "execution_count": 25,
   "id": "fbe96586-8e98-4327-9e89-defc5b3bbf43",
   "metadata": {},
   "outputs": [
    {
     "name": "stdout",
     "output_type": "stream",
     "text": [
      "No of times autocomplete choice was selected 17820\n",
      "Total no of times search bar was used: 54541\n",
      "The users chose the autocomplete results 32.67266826790854% of the time\n"
     ]
    }
   ],
   "source": [
    "acr_count=(users_df['event_name']=='autocomplete_engine').sum()\n",
    "print(f\"No of times autocomplete choice was selected {acr_count}\")\n",
    "\n",
    "run_query_count=(users_df['event_name']=='run_query').sum()\n",
    "print(f\"Total no of times search bar was used: {run_query_count}\")\n",
    "\n",
    "print(f\"The users chose the autocomplete results {(acr_count/run_query_count)*100}% of the time\")"
   ]
  },
  {
   "cell_type": "code",
   "execution_count": 26,
   "id": "1f68345f-6cf6-4ba7-8be2-3616c28154ca",
   "metadata": {},
   "outputs": [],
   "source": [
    "acr=users_df[users_df['event_name']=='autocomplete_engine']"
   ]
  },
  {
   "cell_type": "code",
   "execution_count": 27,
   "id": "cf72fb14-4e13-466e-9b8d-1839f50c70eb",
   "metadata": {},
   "outputs": [
    {
     "data": {
      "text/plain": [
       "os\n",
       "android    9024\n",
       "ios        3665\n",
       "mac         577\n",
       "windows    4554\n",
       "dtype: int64"
      ]
     },
     "execution_count": 27,
     "metadata": {},
     "output_type": "execute_result"
    }
   ],
   "source": [
    "## autocomplete result group by os of device\n",
    "acr_os_count=acr.groupby('os').size()\n",
    "acr_os_count"
   ]
  },
  {
   "cell_type": "code",
   "execution_count": 28,
   "id": "133b1041-5173-4a09-a694-fb7a8e236bcc",
   "metadata": {},
   "outputs": [
    {
     "data": {
      "image/png": "[encoded data removed]",
      "text/plain": [
       "<Figure size 400x400 with 1 Axes>"
      ]
     },
     "metadata": {},
     "output_type": "display_data"
    }
   ],
   "source": [
    "plt.figure(figsize=(4,4))\n",
    "plt.pie(acr_os_count, labels=acr_os_count.index, autopct='%1.1f%%', startangle=90)\n",
    "plt.title('Autocomplete search by os')\n",
    "plt.show()"
   ]
  },
  {
   "cell_type": "code",
   "execution_count": 29,
   "id": "b85ee945-f444-4566-b7f7-c59a702acd9c",
   "metadata": {},
   "outputs": [
    {
     "name": "stderr",
     "output_type": "stream",
     "text": [
      "C:\\Users\\Sonal Jain\\AppData\\Local\\Temp\\ipykernel_5356\\2760432253.py:15: UserWarning: set_ticklabels() should only be used with a fixed number of ticks, i.e. after set_ticks() or using a FixedLocator.\n",
      "  axs[1].set_xticklabels(axs[1].get_xticklabels(), rotation=45, ha='right')\n"
     ]
    },
    {
     "data": {
      "image/png": "[encoded data removed]",
      "text/plain": [
       "<Figure size 1200x500 with 2 Axes>"
      ]
     },
     "metadata": {},
     "output_type": "display_data"
    }
   ],
   "source": [
    "fig, axs = plt.subplots(1, 2, figsize=(12, 5))\n",
    "acr_osversionx_count=acr.groupby('os_version_x').size()\n",
    "acr_osversiony_count=acr.groupby('os_version_y').size()\n",
    "# Plotting the first subplot (os_version_x)\n",
    "axs[0].bar(acr_osversionx_count.index, acr_osversionx_count)\n",
    "axs[0].set_title('Count of os_version_x')\n",
    "axs[0].set_xlabel('os_version_x')\n",
    "axs[0].set_ylabel('Count')\n",
    "\n",
    "# Plotting the second subplot (os_version_y)\n",
    "axs[1].bar(acr_osversiony_count.index, acr_osversiony_count)\n",
    "axs[1].set_title('Count of os_version_y')\n",
    "axs[1].set_xlabel('os_version_y')\n",
    "axs[1].set_ylabel('Count')\n",
    "axs[1].set_xticklabels(axs[1].get_xticklabels(), rotation=45, ha='right')\n",
    "plt.tight_layout()\n",
    "plt.show()\n"
   ]
  },
  {
   "cell_type": "markdown",
   "id": "5695981e-8c6a-4a46-95cb-dfe73548bd8e",
   "metadata": {},
   "source": [
    "* Android users account for 50% of the autocomplete searches\n",
    "* Users with Andriod version 12 and Windows 10 seem to prefer the autocomplete engine the most\n",
    "* Autcomplete engine is most popular with OS version 10 and 12"
   ]
  },
  {
   "cell_type": "markdown",
   "id": "f5932fa4-ebaf-4d8a-9f21-106deb577505",
   "metadata": {},
   "source": [
    "## CONCLUSIONS :"
   ]
  },
  {
   "cell_type": "markdown",
   "id": "79acc5dc-cc40-4030-8e5f-e7a18c52c1b8",
   "metadata": {},
   "source": [
    "* The search button is being used actively, with most searches done by one user ranging upto 140 to 160 searches and the least ranging from 0-20.\n",
    "* There are small but a 'non-negligible' amount of people that select the 5th,6th,7th.... ane even the 10th result from the top; indicating that the users are not satisfied with the top results and results need to be ordered properly.\n",
    "* A 100% of search engine errors occur in Android phones\n",
    "* OS Version 12 accounts for 50%+ errors in the search engine.\n",
    "* Most of these errors occur in devices with 6/8 GB ram.\n",
    "* The chipset with heighest error is Mediatek MT6833P Dimensity 810 (6 nm)\n",
    "* And the device battery with most error is 5000 mAh Li-Po\n",
    "* Android users account for 50% of the autocomplete searches\n",
    "* Users with Andriod version 12 and Windows 10 seem to prefer the autocomplete engine the most\n"
   ]
  }
 ],
 "metadata": {
  "kernelspec": {
   "display_name": "Python 3 (ipykernel)",
   "language": "python",
   "name": "python3"
  },
  "language_info": {
   "codemirror_mode": {
    "name": "ipython",
    "version": 3
   },
   "file_extension": ".py",
   "mimetype": "text/x-python",
   "name": "python",
   "nbconvert_exporter": "python",
   "pygments_lexer": "ipython3",
   "version": "3.10.2"
  }
 },
 "nbformat": 4,
 "nbformat_minor": 5
}
